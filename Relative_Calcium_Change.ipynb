{
 "cells": [
  {
   "cell_type": "code",
   "execution_count": null,
   "id": "e5019c01-81c3-45e5-937c-63bc7e4bcfca",
   "metadata": {},
   "outputs": [],
   "source": [
    "import pandas as pd\n",
    "from scipy import stats\n",
    "import matplotlib.pyplot as plt\n",
    "import openpyxl"
   ]
  },
  {
   "cell_type": "code",
   "execution_count": null,
   "id": "e5216414-657a-4e1d-a0fb-3d1a708c1ec7",
   "metadata": {},
   "outputs": [],
   "source": [
    "# Function to clean data by removing columns with 'Unnamed' in the name\n",
    "def clean_data(df):\n",
    "    \"\"\"\n",
    "    This function takes a DataFrame as input, removes columns with 'Unnamed' in the column name,\n",
    "    and returns the cleaned DataFrame.\n",
    "    \"\"\"\n",
    "    df_cleaned = df.loc[:, ~df.columns.str.contains('Unnamed')]\n",
    "    return df_cleaned"
   ]
  },
  {
   "cell_type": "code",
   "execution_count": null,
   "id": "157bfa78-d316-4226-8c74-fd1b0f3968c0",
   "metadata": {},
   "outputs": [],
   "source": [
    "# Function to calculate baseline (first 30 values) for a given measurement\n",
    "def calculate_baseline(df, measurement_column):\n",
    "    \"\"\"\n",
    "    This function extracts the first 30 rows from a given measurement column and returns them as the baseline.\n",
    "    \"\"\"\n",
    "    return df.loc[1:30, measurement_column]"
   ]
  },
  {
   "cell_type": "code",
   "execution_count": null,
   "id": "fa3c2105-9daf-4514-82c6-2b543a2b46ca",
   "metadata": {},
   "outputs": [],
   "source": [
    "# Function to calculate the minimum value of the baseline\n",
    "def calculate_min(baseline):\n",
    "    \"\"\"\n",
    "    This function calculates the minimum value from the baseline data.\n",
    "    \"\"\"\n",
    "    return baseline.min()"
   ]
  },
  {
   "cell_type": "code",
   "execution_count": null,
   "id": "bfb3e1e7-ff3f-4df3-9273-59eee31e8e7a",
   "metadata": {},
   "outputs": [],
   "source": [
    "# Function to calculate the maximum value for a given measurement\n",
    "def calculate_max(df, measurement_column):\n",
    "    \"\"\"\n",
    "    This function calculates the maximum value from the entire column of the specified measurement.\n",
    "    \"\"\"\n",
    "    return df[measurement_column].max()"
   ]
  },
  {
   "cell_type": "code",
   "execution_count": null,
   "id": "94e7ec45-2bba-4b80-99a6-d61e1f4a3464",
   "metadata": {},
   "outputs": [],
   "source": [
    "# Function to calculate the relative change for a given max and min\n",
    "def calculate_relative_change(max_value, min_value):\n",
    "    \"\"\"\n",
    "    This function calculates the relative change as (max - min) / min.\n",
    "    \"\"\"\n",
    "    return (max_value - min_value) / min_value"
   ]
  },
  {
   "cell_type": "code",
   "execution_count": null,
   "id": "9a6918b0-4988-4017-96ae-416429f7a5c7",
   "metadata": {},
   "outputs": [],
   "source": [
    "# Function to read the file path from the user input\n",
    "def get_file_path():\n",
    "    \"\"\"\n",
    "    This function prompts the user to input the file path for the Excel file.\n",
    "    \"\"\"\n",
    "    file_path = input(\"Please enter the full path to your Excel file (e.g., C:/path/to/your/file.xlsx): \")\n",
    "    return file_path"
   ]
  },
  {
   "cell_type": "code",
   "execution_count": null,
   "id": "05711f69-59a1-4457-b2fc-3ff4741a9660",
   "metadata": {},
   "outputs": [],
   "source": [
    "# Ask the user to input the file path for the stimulant and negative control data\n",
    "file_path = get_file_path()"
   ]
  },
  {
   "cell_type": "code",
   "execution_count": null,
   "id": "7b2d0d5a-856d-4677-b22a-1f60e39e79d4",
   "metadata": {},
   "outputs": [],
   "source": [
    "# Read the stimulant data from the user-provided file path\n",
    "df_Stimulant = pd.read_excel(file_path, sheet_name='Stimulant')"
   ]
  },
  {
   "cell_type": "code",
   "execution_count": null,
   "id": "833ba094-93d5-4568-b910-63f95d93a40c",
   "metadata": {},
   "outputs": [],
   "source": [
    "# Clean the stimulant data\n",
    "df_Stimulant = clean_data(df_Stimulant)"
   ]
  },
  {
   "cell_type": "code",
   "execution_count": null,
   "id": "4d2af710-58eb-4ba1-abd1-58914c8e1be3",
   "metadata": {},
   "outputs": [],
   "source": [
    "# Rename the column \"Time 1\" to \"Time\"\n",
    "df_Stimulant.rename(columns={\"Time 1\": \"Time\"}, inplace=True)\n",
    "\n",
    "# Set \"Time\" column as index\n",
    "df_Stimulant.set_index(\"Time\", inplace=True)"
   ]
  },
  {
   "cell_type": "code",
   "execution_count": null,
   "id": "6328c436-a8e6-41ca-b659-cd47723e5fea",
   "metadata": {},
   "outputs": [],
   "source": [
    "# Calculate baseline values for stimulant\n",
    "baseline1 = calculate_baseline(df_Stimulant, \"Measurement 1\")\n",
    "baseline2 = calculate_baseline(df_Stimulant, \"Measurement 2\")\n",
    "baseline3 = calculate_baseline(df_Stimulant, \"Measurement 3\")\n",
    "\n",
    "# Calculate min baseline values for stimulant\n",
    "min_baseline1 = calculate_min(baseline1)\n",
    "min_baseline2 = calculate_min(baseline2)\n",
    "min_baseline3 = calculate_min(baseline3)\n",
    "\n",
    "# Calculate max values for stimulant\n",
    "max_1 = calculate_max(df_Stimulant, \"Measurement 1\")\n",
    "max_2 = calculate_max(df_Stimulant, \"Measurement 2\")\n",
    "max_3 = calculate_max(df_Stimulant, \"Measurement 3\")\n",
    "\n",
    "# Calculate relative changes for stimulant\n",
    "relative_change1 = calculate_relative_change(max_1, min_baseline1)\n",
    "relative_change2 = calculate_relative_change(max_2, min_baseline2)\n",
    "relative_change3 = calculate_relative_change(max_3, min_baseline3)\n",
    "\n",
    "# Print relative change for stimulant\n",
    "print(\"Stimulant Relative Changes:\")\n",
    "print(relative_change1)\n",
    "print(relative_change2)\n",
    "print(relative_change3)"
   ]
  },
  {
   "cell_type": "code",
   "execution_count": null,
   "id": "af7cf7f1-09d6-4feb-a3f4-b4d57fb98e7b",
   "metadata": {},
   "outputs": [],
   "source": [
    "# Read the negative control data from the same user-provided file path\n",
    "df_Negative = pd.read_excel(file_path, sheet_name='Negative')"
   ]
  },
  {
   "cell_type": "code",
   "execution_count": null,
   "id": "99430030-9ab2-4c37-ace8-b56b712129fa",
   "metadata": {},
   "outputs": [],
   "source": [
    "# Clean the negative control data\n",
    "df_Negative = clean_data(df_Negative)\n",
    "\n",
    "# Rename the column \"Time 1\" to \"Time\"\n",
    "df_Negative.rename(columns={\"Time 1\": \"Time\"}, inplace=True)\n",
    "\n",
    "# Set \"Time\" column as index\n",
    "df_Negative.set_index(\"Time\", inplace=True)"
   ]
  },
  {
   "cell_type": "code",
   "execution_count": null,
   "id": "c46e5d7a-1e65-4c1e-8148-b5bd5ce7ef4f",
   "metadata": {},
   "outputs": [],
   "source": [
    "# Calculate baseline values for negative control\n",
    "baseline1_neg = calculate_baseline(df_Negative, \"Measurement 1\")\n",
    "baseline2_neg = calculate_baseline(df_Negative, \"Measurement 2\")\n",
    "baseline3_neg = calculate_baseline(df_Negative, \"Measurement 3\")\n",
    "\n",
    "# Calculate min baseline values for negative control\n",
    "min_baseline1_neg = calculate_min(baseline1_neg)\n",
    "min_baseline2_neg = calculate_min(baseline2_neg)\n",
    "min_baseline3_neg = calculate_min(baseline3_neg)\n",
    "\n",
    "# Calculate max values for negative control\n",
    "max_1_neg = calculate_max(df_Negative, \"Measurement 1\")\n",
    "max_2_neg = calculate_max(df_Negative, \"Measurement 2\")\n",
    "max_3_neg = calculate_max(df_Negative, \"Measurement 3\")\n",
    "\n",
    "# Calculate relative changes for negative control\n",
    "relative_change1_neg = calculate_relative_change(max_1_neg, min_baseline1_neg)\n",
    "relative_change2_neg = calculate_relative_change(max_2_neg, min_baseline2_neg)\n",
    "relative_change3_neg = calculate_relative_change(max_3_neg, min_baseline3_neg)\n",
    "\n",
    "# Print relative change for negative control\n",
    "print(\"Negative Control Relative Changes:\")\n",
    "print(relative_change1_neg)\n",
    "print(relative_change2_neg)\n",
    "print(relative_change3_neg)"
   ]
  },
  {
   "cell_type": "code",
   "execution_count": null,
   "id": "32ec2e13-f3c8-4ab1-998b-a820c4ea391f",
   "metadata": {},
   "outputs": [],
   "source": [
    "# Create a summary dataframe\n",
    "summary_file = {\n",
    "    'Relative change 1': [relative_change1, relative_change1_neg],\n",
    "    'Relative change 2': [relative_change2, relative_change2_neg],\n",
    "    'Relative change 3': [relative_change3, relative_change3_neg],\n",
    "}\n",
    "\n",
    "summary_df = pd.DataFrame(summary_file, index=[\"Stimulant\", \"Negative\"])\n",
    "\n",
    "# Print summary dataframe\n",
    "print(summary_df)"
   ]
  },
  {
   "cell_type": "code",
   "execution_count": null,
   "id": "911d1c7b-3a2f-4f9f-8f90-41dcb20d6ccf",
   "metadata": {},
   "outputs": [],
   "source": [
    "# Perform paired t-test\n",
    "Stimulant = [relative_change1, relative_change2, relative_change3]\n",
    "Negative = [relative_change1_neg, relative_change2_neg, relative_change3_neg]\n",
    "\n",
    "t_stat, p_value = stats.ttest_rel(Stimulant, Negative)\n",
    "\n",
    "# Print the results of the t-test\n",
    "print(r\" T-statistics: \", t_stat)\n",
    "print(r\" P-value : \", p_value)\n",
    "if p_value < 0.5:\n",
    "    print(r\" There is a significant difference between Stimulant and Negative\")\n",
    "else:\n",
    "    print(r\" No significant difference between Stimulant and Negative\")"
   ]
  },
  {
   "cell_type": "code",
   "execution_count": null,
   "id": "3cc355ed-5440-4d3c-b236-93a24f6fbaf0",
   "metadata": {},
   "outputs": [],
   "source": [
    "# Plotting the data\n",
    "df_Stimulant['Measurement 1'].plot(marker='o', linestyle='-', color='b', label='Stimulant')\n",
    "df_Negative['Measurement 1'].plot(marker='o', linestyle='-', color='r', label='Negative')\n",
    "\n",
    "# Add labels and title\n",
    "plt.xlabel('Time')\n",
    "plt.ylabel('Ca2+ Levels')\n",
    "plt.title('Relative Ca2+ Change - Measurement 1')\n",
    "\n",
    "# Add grid and legend\n",
    "plt.legend()\n",
    "\n",
    "# Save and show the plot\n",
    "plt.savefig('measurement_1_plot.png', dpi=600)\n",
    "plt.show()"
   ]
  }
 ],
 "metadata": {
  "kernelspec": {
   "display_name": "Python 3 (ipykernel)",
   "language": "python",
   "name": "python3"
  },
  "language_info": {
   "codemirror_mode": {
    "name": "ipython",
    "version": 3
   },
   "file_extension": ".py",
   "mimetype": "text/x-python",
   "name": "python",
   "nbconvert_exporter": "python",
   "pygments_lexer": "ipython3",
   "version": "3.12.6"
  }
 },
 "nbformat": 4,
 "nbformat_minor": 5
}
